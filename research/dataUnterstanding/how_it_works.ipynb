{
 "cells": [
  {
   "cell_type": "code",
   "execution_count": 1,
   "id": "8b62d91e",
   "metadata": {},
   "outputs": [
    {
     "name": "stdout",
     "output_type": "stream",
     "text": [
      "Wellenlängen [µm]: [ 8. 10. 12.]\n",
      "X(λ)  (Umgebungsstrahlung): [1.02 0.91 0.83]\n",
      "rho(λ)=1-eps(λ): [0.05 0.1  0.15]\n",
      "S_meas(λ): [9517527.098191 9668782.258248 8143263.694765]\n",
      "T_true = 305.00 K,  T_est = 305.00 K\n",
      "Fit-Restfehler (Sum of squares) = 2.307e-16\n"
     ]
    }
   ],
   "source": [
    "import numpy as np\n",
    "from scipy.optimize import least_squares\n",
    "\n",
    "# -------------------------------\n",
    "# 1) Beispiel-Daten\n",
    "# -------------------------------\n",
    "# Wellenlängen in µm (z.B. 3 Kanäle)\n",
    "lam_um = np.array([8.0, 10.0, 12.0])\n",
    "\n",
    "# Umgebungsobjekte: 2 Materialien × 3 Wellenlängen (Radiance-Einheiten konsistent!)\n",
    "S_EnvObj = np.array([\n",
    "    [1.20, 1.00, 0.80],  # Himmel\n",
    "    [0.60, 0.70, 0.90],  # Vegetation\n",
    "])\n",
    "\n",
    "# Sichtanteile (Summe = 1): 70% Himmel, 30% Vegetation\n",
    "# Wie stark jedes Objkekt zu sehen ist.\n",
    "V = np.array([0.7, 0.3])\n",
    "\n",
    "# Emissivität des Zielobjekts (pro Wellenlänge)\n",
    "eps = np.array([0.95, 0.90, 0.85]) # Emissivität\n",
    "rho = 1.0 - eps # Reflexion anteil \n",
    "\n",
    "# -------------------------------\n",
    "# 2) Umgebungsstrahlung X(λ)\n",
    "# 3) gemischte Umgebungsstrahlung der gesammte Umgebung\n",
    "# 4) Wird gewichtet nach dem Einfluss jedes Objektes und der Emissivität des Zielobjektes\n",
    "# -------------------------------\n",
    "X = (V @ S_EnvObj).T  # -> (3,) = gemischte Umgebungsstrahlung der gesammte Umgebung\n",
    "# Alternativ explizit: X = (V @ S_EnvObj)  (hier bereits 1D mit Länge 3)\n",
    "# array([1.02, 0.91, 0.83]) Hier sind Himmel und Vegetation zusammen gemischt\n",
    "\n",
    "# -------------------------------\n",
    "# 3) Planck-Funktion B(λ, T)\n",
    "#    (λ in µm; Ergebnis in W·m^-3·sr^-1; für viele Anwendungen reicht relative Form)\n",
    "# -------------------------------\n",
    "def planck_lambda(lam_um, T):\n",
    "    h  = 6.62607015e-34\n",
    "    c  = 2.99792458e8\n",
    "    kB = 1.380649e-23\n",
    "    lam = lam_um * 1e-6  # µm -> m\n",
    "    num = 2*h*c**2 / lam**5\n",
    "    den = np.exp((h*c)/(lam*kB*T)) - 1.0\n",
    "    return num / den  # Achtung: Einheiten ggf. auf W/(m^2 sr µm) skalieren, falls nötig.\n",
    "\n",
    "# -------------------------------\n",
    "# 4) Vorwärtsmodell: S_meas = eps*B + (1-eps)*X\n",
    "#    -> Wir simulieren Messung mit einer \"wahren\" Temperatur T_true\n",
    "# -------------------------------\n",
    "T_true = 305.0  # K (nur Beispiel)\n",
    "B_true = planck_lambda(lam_um, T_true)\n",
    "S_emit_true = eps * B_true  # Das wahre Starhlung von uns oder Objekt die wir identifizieren wollen\n",
    "S_refl_true = rho * X # Die Reflexion der Umgebung (1-eps)*X\n",
    "S_meas = S_emit_true + S_refl_true\n",
    "\n",
    "# Optional: Messrauschen hinzufügen\n",
    "# rng = np.random.default_rng(42)\n",
    "# S_meas = S_meas * (1.0 + 0.005*rng.standard_normal(S_meas.shape))\n",
    "\n",
    "# -------------------------------\n",
    "# 5) Inversion: T schätzen aus S_meas, eps und X\n",
    "# -------------------------------\n",
    "def residual_T(T):\n",
    "    B = planck_lambda(lam_um, T[0])\n",
    "    model = eps * B + rho * X\n",
    "    return S_meas - model  # Least-Squares-Residuum\n",
    "\n",
    "\n",
    "\"\"\"\n",
    "max_nfev=200\n",
    "\n",
    "Das bedeutet nur:\n",
    "\n",
    "Der Solver darf höchstens 200 Funktionsaufrufe machen (also 200 Temperaturversuche).\n",
    "\n",
    "Er kann vorher aufhören, wenn er schon eine gute Lösung gefunden hat.\n",
    "\n",
    "\"\"\"\n",
    "\n",
    "res = least_squares(residual_T, x0=[300.0], bounds=(200.0, 500.0), max_nfev=200)\n",
    "T_est = float(res.x[0])\n",
    "\n",
    "# -------------------------------\n",
    "# 6) Ergebnisse ausgeben\n",
    "# -------------------------------\n",
    "print(\"Wellenlängen [µm]:\", lam_um)\n",
    "print(\"X(λ)  (Umgebungsstrahlung):\", np.round(X, 6))\n",
    "print(\"rho(λ)=1-eps(λ):\", rho)\n",
    "print(\"S_meas(λ):\", np.round(S_meas, 6))\n",
    "print(f\"T_true = {T_true:.2f} K,  T_est = {T_est:.2f} K\")\n",
    "print(f\"Fit-Restfehler (Sum of squares) = {res.cost:.3e}\")\n"
   ]
  },
  {
   "cell_type": "code",
   "execution_count": 2,
   "id": "34563807",
   "metadata": {},
   "outputs": [
    {
     "data": {
      "text/plain": [
       "array([0.05, 0.1 , 0.15])"
      ]
     },
     "execution_count": 2,
     "metadata": {},
     "output_type": "execute_result"
    }
   ],
   "source": [
    "rho # Reflexion (1- e)"
   ]
  },
  {
   "cell_type": "code",
   "execution_count": 6,
   "id": "560cb24b",
   "metadata": {},
   "outputs": [
    {
     "data": {
      "text/plain": [
       "array([0.95, 0.9 , 0.85])"
      ]
     },
     "execution_count": 6,
     "metadata": {},
     "output_type": "execute_result"
    }
   ],
   "source": [
    "eps # Emissivität"
   ]
  },
  {
   "cell_type": "code",
   "execution_count": 3,
   "id": "d6e0885f",
   "metadata": {},
   "outputs": [
    {
     "data": {
      "text/plain": [
       "array([1.02, 0.91, 0.83])"
      ]
     },
     "execution_count": 3,
     "metadata": {},
     "output_type": "execute_result"
    }
   ],
   "source": [
    "X  # (V @ S_EnvObj).T Gemischte Strahlung"
   ]
  },
  {
   "cell_type": "code",
   "execution_count": 7,
   "id": "0cb61637",
   "metadata": {},
   "outputs": [
    {
     "data": {
      "text/plain": [
       "array([0.051 , 0.091 , 0.1245])"
      ]
     },
     "execution_count": 7,
     "metadata": {},
     "output_type": "execute_result"
    }
   ],
   "source": [
    "S_refl_true # Die Reflexion der Umgebung (1-eps)*X"
   ]
  },
  {
   "cell_type": "code",
   "execution_count": 4,
   "id": "35b4c343",
   "metadata": {},
   "outputs": [
    {
     "data": {
      "text/plain": [
       "array([10018449.52335848, 10743091.29694198,  9580310.08266512])"
      ]
     },
     "execution_count": 4,
     "metadata": {},
     "output_type": "execute_result"
    }
   ],
   "source": [
    "B_true # Gesammte Starhlung in eine Pixel (Beispiel) ohne emissivität abzuziehen"
   ]
  },
  {
   "cell_type": "code",
   "execution_count": 5,
   "id": "b5c49cb9",
   "metadata": {},
   "outputs": [
    {
     "data": {
      "text/plain": [
       "array([9517527.04719056, 9668782.16724778, 8143263.57026535])"
      ]
     },
     "execution_count": 5,
     "metadata": {},
     "output_type": "execute_result"
    }
   ],
   "source": [
    "S_emit_true # Das wahre Starhlung  eps*B(T) "
   ]
  },
  {
   "cell_type": "code",
   "execution_count": 4,
   "id": "a0a243cb",
   "metadata": {},
   "outputs": [
    {
     "data": {
      "text/plain": [
       "array([305.])"
      ]
     },
     "execution_count": 4,
     "metadata": {},
     "output_type": "execute_result"
    }
   ],
   "source": [
    "res.x"
   ]
  },
  {
   "cell_type": "code",
   "execution_count": 5,
   "id": "597ea0af",
   "metadata": {},
   "outputs": [
    {
     "name": "stdout",
     "output_type": "stream",
     "text": [
      "=== Physikalische Struktur ===\n",
      "Wellenlängen [µm]:         [ 8. 10. 12.]\n",
      "X(λ) Umgebung:             [1.02 0.91 0.83]\n",
      "rho(λ)=1-eps(λ):           [0.05 0.1  0.15]\n",
      "S_meas(λ):                 [9517527.098191 9668782.258248 8143263.694765]\n",
      "T_true = 305.00 K,   T_est = 305.00 K\n",
      "S_emit_est(λ) (Eigen):     [9517527.047191 9668782.167248 8143263.570265]\n",
      "S_refl_est(λ) (Reflex):    [0.051  0.091  0.1245]\n",
      "eps_est (umgestellt):      [0.95 0.9  0.85]\n",
      "Fit-Restfehler (SSE)     = 2.307e-16\n",
      "\n",
      "=== Chemische Struktur (Demo) ===\n",
      "gamma_ref (Peak@10µm):     [0.2 1.  0.2]\n",
      "Gamma-Score (cosine)     = 0.747  (≈0..1; höher = ähnlicher)\n",
      "\n",
      "=== Tiefenstruktur (Demo) ===\n",
      "alpha(λ) [1/m]:            [0.8 1.2 1.6]\n",
      "A(λ) (Anomalie, Demo):     [0.051  0.091  0.1245]\n",
      "z_est (aus log-Fit)      = -1.116 m   (nur Demo-Formel)\n"
     ]
    }
   ],
   "source": [
    "import numpy as np\n",
    "from scipy.optimize import least_squares\n",
    "\n",
    "# ============================================================\n",
    "# 0) DEMO-SETUP (dein Beispiel, minimal erweitert)\n",
    "#    -> Wir bleiben bei 3 Bändern, 2 Umweltobjekten, 1 Pixel\n",
    "# ============================================================\n",
    "\n",
    "# Wellenlängen in µm\n",
    "lam_um = np.array([8.0, 10.0, 12.0])\n",
    "\n",
    "# Umgebungsobjekte: 2 Materialien × 3 Wellenlängen (Radiance in konsistenten Einheiten)\n",
    "S_EnvObj = np.array([\n",
    "    [1.20, 1.00, 0.80],  # Himmel\n",
    "    [0.60, 0.70, 0.90],  # Vegetation\n",
    "])\n",
    "\n",
    "# Sichtanteile (Summe = 1): wie stark jedes Umweltobjekt \"gesehen\" wird\n",
    "V = np.array([0.7, 0.3])  # 70% Himmel, 30% Vegetation\n",
    "\n",
    "# Emissivität des Zielobjekts (bandweise). In echt: aus matLib[:, idx] oder als Mischung.\n",
    "eps = np.array([0.95, 0.90, 0.85])\n",
    "rho = 1.0 - eps  # Reflexionsfaktor nach Kirchhoff (opak, tau≈0)\n",
    "\n",
    "# Gemischte Umgebungsstrahlung X(λ) = V^T S_EnvObj\n",
    "X = (V @ S_EnvObj).T  # -> (3,) Umgebungsstrahlung pro Band\n",
    "\n",
    "# -------------------------------\n",
    "# Planck-Funktion B(λ, T)\n",
    "# λ in µm; Output in W·m^-3·sr^-1 (Skalierung ggf. anpassen zu deiner Radiometrie)\n",
    "# -------------------------------\n",
    "def planck_lambda(lam_um, T):\n",
    "    h  = 6.62607015e-34\n",
    "    c  = 2.99792458e8\n",
    "    kB = 1.380649e-23\n",
    "    lam = lam_um * 1e-6  # µm -> m\n",
    "    num = 2*h*c**2 / lam**5\n",
    "    den = np.exp((h*c)/(lam*kB*T)) - 1.0\n",
    "    return num / den  # Für relative Fits oft ausreichend\n",
    "\n",
    "# -------------------------------\n",
    "# FORWARD: Wir simulieren eine Messung S_meas\n",
    "# -------------------------------\n",
    "T_true = 305.0  # K (nur Demo)\n",
    "B_true = planck_lambda(lam_um, T_true)\n",
    "S_emit_true = eps * B_true          # Eigenstrahlung\n",
    "S_refl_true = rho * X               # Reflexion der Umgebung\n",
    "S_meas = S_emit_true + S_refl_true  # gemessenes Spektrum (modelliert)\n",
    "\n",
    "# ============================================================\n",
    "# 1) PHYSIKALISCHE STRUKTUR: T, S_emit, S_refl, eps_est\n",
    "# ============================================================\n",
    "\n",
    "# (a) Temperatur-Fit (Least Squares): min || S_meas - (eps*B(T) + rho*X) ||^2\n",
    "def residual_T(T):\n",
    "    B = planck_lambda(lam_um, T[0])\n",
    "    model = eps * B + rho * X\n",
    "    return S_meas - model\n",
    "\n",
    "res = least_squares(residual_T, x0=[300.0], bounds=(200.0, 500.0), max_nfev=200)\n",
    "T_est = float(res.x[0])\n",
    "\n",
    "# (b) Mit T_est Komponenten trennen\n",
    "B_est = planck_lambda(lam_um, T_est)\n",
    "S_refl_est = rho * X\n",
    "S_emit_est = S_meas - S_refl_est  # eigen-emittierter Anteil (modellbasiert)\n",
    "\n",
    "# (c) Emissivität aus umgestellter Gleichung schätzen (optional Check):\n",
    "#     eps ≈ (S_meas - X) / (B(T) - X), bandweise, auf [0,1] clippen\n",
    "eps_est = (S_meas - X) / np.maximum(B_est - X, 1e-12)\n",
    "eps_est = np.clip(eps_est, 0.0, 1.0)\n",
    "\n",
    "# ============================================================\n",
    "# 2) CHEMISCHE STRUKTUR: einfacher Fingerprint-Score Γ\n",
    "#    Idee: reflektierte Umweltstrahlung trägt chemische \"Linienformen\".\n",
    "#    Für die Demo definieren wir eine Referenzsignatur mit Peak bei 10 µm.\n",
    "#    In echt: nimm Referenzspektren/Peaks (z.B. Sprengstoff, Plastik) und match sie.\n",
    "# ============================================================\n",
    "\n",
    "# Referenz-\"Resonanz\"-Form (Demo): Peak bei λ=10 µm\n",
    "gamma_ref = np.array([0.2, 1.0, 0.2])  # sehr simpel (nur Demo)\n",
    "\n",
    "# Wir nehmen als \"chemie-tragend\" den reflektierten Teil (kannst auch andere Normierungen testen)\n",
    "# Normalisierung: auf Norm 1 bringen für Cosine Similarity\n",
    "def normalize(v, eps=1e-12):\n",
    "    n = np.linalg.norm(v)\n",
    "    return v / (n + eps)\n",
    "\n",
    "chem_vec = normalize(S_refl_est)\n",
    "chem_ref = normalize(gamma_ref)\n",
    "\n",
    "# Cosine Similarity als Score ([-1..1], hier ~[0..1] wegen Positivität)\n",
    "Gamma_score = float(np.dot(chem_vec, chem_ref))\n",
    "\n",
    "# ============================================================\n",
    "# 3) TIEFENSTRUKTUR: Schätzung z via Beer–Lambert (Demo)\n",
    "#    Annahme: eine Anomalie A(λ) ~ K * exp(-α(λ) * z)\n",
    "#    Dann: log(A) = log(K) - α(λ) * z  -> linearer Fit in α\n",
    "#    Wir bauen hier eine simple Anomalie aus reflektiertem Anteil (Demo!),\n",
    "#    in echt: nimm z.B. die \"minen-spezifische\" Komponente (dein TLDE-ΔB* * Γ).\n",
    "# ============================================================\n",
    "\n",
    "# Demo-Absorptionskoeffizienten α(λ) (frei gewählt; in echt: material- & erdabhängig)\n",
    "alpha = np.array([0.8, 1.2, 1.6])  # 1/m (nur Demo)\n",
    "\n",
    "# \"Anomalie\" A(λ): nimm einen strictly-positiven Teil, z.B. reflektierte Komponente\n",
    "A = np.maximum(S_refl_est, 1e-9)\n",
    "y = np.log(A)            # log(A)\n",
    "x = alpha                # α\n",
    "\n",
    "# Linearer Fit y = c - z * α  -> slope = -z\n",
    "# Bei 3 Punkten: einfache lineare Regression\n",
    "Xmat = np.vstack([np.ones_like(x), -x]).T   # [1, -α] @ [c, z]^T\n",
    "coef, *_ = np.linalg.lstsq(Xmat, y, rcond=None)\n",
    "c_fit, z_est = coef[0], coef[1]             # z_est >=0 erwartet, wenn A mit α fällt\n",
    "\n",
    "# ============================================================\n",
    "# 4) GEOMETRISCHE STRUKTUR (Ausblick)\n",
    "#    Für EIN Pixel nicht machbar. Auf Bild/Map-Ebene:\n",
    "#    - Segmentierung -> Masken\n",
    "#    - Blob-/Konturanalyse -> runde Flecken? Größe? Ränder?\n",
    "#    - Polarisation (optional) -> glanz/gerichtete Reflexion trennen\n",
    "#    Unten Pseudocode.\n",
    "# ============================================================\n",
    "\"\"\"\n",
    "# PSEUDOCODE (auf Bildebene):\n",
    "seg_map = segment_image(rgb_or_hsi)            # Semantic Segmentation\n",
    "V_map    = area_fractions_per_region(seg_map)  # pro Patch/Region: V bestimmen\n",
    "X_map    = mix_env_stradiance(V_map, S_EnvObj) # Umgebungsspektrum pro Region\n",
    "eps_map  = lookup_eps_from_matLib(labels)      # oder Mischung/Schätzung\n",
    "T_map    = fit_temperature_per_pixel(S_meas_cube, eps_map, X_map)\n",
    "\n",
    "# Geometrie:\n",
    "anomaly = detect_anomaly(T_map or Γ_map)       # z.B. DoG/LoG/Threshold/Connected Components\n",
    "features = measure_shape(anomaly)              # Fläche, Rundheit, Exzentrizität, Kanten-Schärfe\n",
    "\"\"\"\n",
    "\n",
    "# ============================================================\n",
    "# 5) AUSGABE\n",
    "# ============================================================\n",
    "print(\"=== Physikalische Struktur ===\")\n",
    "print(\"Wellenlängen [µm]:        \", lam_um)\n",
    "print(\"X(λ) Umgebung:            \", np.round(X, 6))\n",
    "print(\"rho(λ)=1-eps(λ):          \", np.round(rho, 6))\n",
    "print(\"S_meas(λ):                \", np.round(S_meas, 6))\n",
    "print(f\"T_true = {T_true:.2f} K,   T_est = {T_est:.2f} K\")\n",
    "print(\"S_emit_est(λ) (Eigen):    \", np.round(S_emit_est, 6))\n",
    "print(\"S_refl_est(λ) (Reflex):   \", np.round(S_refl_est, 6))\n",
    "print(\"eps_est (umgestellt):     \", np.round(eps_est, 6))\n",
    "print(f\"Fit-Restfehler (SSE)     = {res.cost:.3e}\")\n",
    "\n",
    "print(\"\\n=== Chemische Struktur (Demo) ===\")\n",
    "print(\"gamma_ref (Peak@10µm):    \", gamma_ref)\n",
    "print(f\"Gamma-Score (cosine)     = {Gamma_score:.3f}  (≈0..1; höher = ähnlicher)\")\n",
    "\n",
    "print(\"\\n=== Tiefenstruktur (Demo) ===\")\n",
    "print(\"alpha(λ) [1/m]:           \", alpha)\n",
    "print(\"A(λ) (Anomalie, Demo):    \", np.round(A, 6))\n",
    "print(f\"z_est (aus log-Fit)      = {z_est:.3f} m   (nur Demo-Formel)\")\n"
   ]
  },
  {
   "cell_type": "code",
   "execution_count": null,
   "id": "b4873f2c",
   "metadata": {},
   "outputs": [],
   "source": []
  }
 ],
 "metadata": {
  "kernelspec": {
   "display_name": "Python 3 (ipykernel)",
   "language": "python",
   "name": "python3"
  },
  "language_info": {
   "codemirror_mode": {
    "name": "ipython",
    "version": 3
   },
   "file_extension": ".py",
   "mimetype": "text/x-python",
   "name": "python",
   "nbconvert_exporter": "python",
   "pygments_lexer": "ipython3",
   "version": "3.10.18"
  }
 },
 "nbformat": 4,
 "nbformat_minor": 5
}
