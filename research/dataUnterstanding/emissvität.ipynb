{
 "cells": [
  {
   "cell_type": "code",
   "execution_count": 1,
   "id": "4adf7329",
   "metadata": {},
   "outputs": [
    {
     "name": "stdout",
     "output_type": "stream",
     "text": [
      "Gemischte Umgebungsstrahlung X:\n",
      "[0.92  0.97  1.005 0.935]\n",
      "Band 1: 0.9200\n",
      "Band 2: 0.9700\n",
      "Band 3: 1.0050\n",
      "Band 4: 0.9350\n"
     ]
    }
   ],
   "source": [
    "import numpy as np\n",
    "\n",
    "# 1. Matrix: S_EnvObj (5 Materialien × 4 Spektralbänder)\n",
    "# Spektren von verschiedenen Objekten\n",
    "S_EnvObj = np.array([\n",
    "    [1.0, 1.1, 1.3, 1.2],  # Material 1 (z. B. Himmel)\n",
    "    [0.8, 0.9, 1.0, 0.9],  # Material 2 (z. B. Asphalt)\n",
    "    [0.5, 0.6, 0.7, 0.6],  # Material 3 (z. B. Pflanze)\n",
    "    [1.5, 1.4, 1.2, 1.1],  # Material 4 (z. B. Metall)\n",
    "    [0.7, 0.8, 0.9, 1.0]   # Material 5 (z. B. Holz)\n",
    "])\n",
    "\n",
    "# 2. Gewichtungsvektor V (Summe = 1.0)\n",
    "# Verschiedene Objekten die auf dem Bild zu sehen sind ( Sie Summe ergeben 100%)\n",
    "V = np.array([\n",
    "    0.1,   # 10% Himmel\n",
    "    0.3,   # 30% Asphalt\n",
    "    0.2,   # 20% Pflanze\n",
    "    0.25,  # 25% Metall\n",
    "    0.15   # 15% Holz\n",
    "])\n",
    "\n",
    "# 3. Berechnung: X = (V^T @ S_EnvObj).T → ergibt (4×1)-Vektor\n",
    "# Hier rechnen wir die gewichtete Summe, um den richtige Strahlung zu bekommen\n",
    "X = (V @ S_EnvObj).T  # oder: X = np.dot(V, S_EnvObj).T\n",
    "\n",
    "# 4. Ausgabe\n",
    "print(\"Gemischte Umgebungsstrahlung X:\")\n",
    "print(X)\n",
    "\n",
    "# Optional: schön formatiert\n",
    "for i, val in enumerate(X, 1):\n",
    "    print(f\"Band {i}: {val:.4f}\")\n"
   ]
  },
  {
   "cell_type": "markdown",
   "id": "eda21f96",
   "metadata": {},
   "source": [
    "### Emissivität"
   ]
  },
  {
   "cell_type": "code",
   "execution_count": 35,
   "id": "0858078b",
   "metadata": {},
   "outputs": [
    {
     "name": "stdout",
     "output_type": "stream",
     "text": [
      "dict_keys(['__header__', '__version__', '__globals__', 'matLib'])\n"
     ]
    }
   ],
   "source": [
    "import scipy.io\n",
    "\n",
    "# Datei laden\n",
    "# matLib_FullDatabase\n",
    "data = scipy.io.loadmat(\"matLib_FullDatabase.mat\")\n",
    "\n",
    "# Alle enthaltenen Variablennamen anzeigen\n",
    "\n",
    "print(data.keys())"
   ]
  },
  {
   "cell_type": "code",
   "execution_count": 37,
   "id": "6a28d998",
   "metadata": {},
   "outputs": [
    {
     "name": "stdout",
     "output_type": "stream",
     "text": [
      "Shape: (49, 30)\n",
      "Dtype: float64\n",
      "Min: 0.01319124 Max: 0.9928823755729472\n"
     ]
    }
   ],
   "source": [
    "matLib = data['matLib']\n",
    "print(\"Shape:\", matLib.shape)\n",
    "print(\"Dtype:\", matLib.dtype)\n",
    "print(\"Min:\", matLib.min(), \"Max:\", matLib.max())\n",
    "# print(f\"The first row: {matLib[0]}\")"
   ]
  },
  {
   "cell_type": "markdown",
   "id": "0cf6c2ef",
   "metadata": {},
   "source": [
    "### Name of the objects"
   ]
  },
  {
   "cell_type": "code",
   "execution_count": 40,
   "id": "17dc566c",
   "metadata": {},
   "outputs": [
    {
     "name": "stdout",
     "output_type": "stream",
     "text": [
      "dict_keys(['__header__', '__version__', '__globals__', 'matName'])\n"
     ]
    }
   ],
   "source": [
    "import scipy.io\n",
    "\n",
    "# Datei laden\n",
    "# matLib_FullDatabase\n",
    "data_name = scipy.io.loadmat(\"matName_FullDatabase.mat\")\n",
    "\n",
    "# Alle enthaltenen Variablennamen anzeigen\n",
    "\n",
    "print(data_name.keys())"
   ]
  },
  {
   "cell_type": "code",
   "execution_count": 43,
   "id": "b3153327",
   "metadata": {},
   "outputs": [
    {
     "name": "stdout",
     "output_type": "stream",
     "text": [
      "Shape: (30, 1)\n",
      "The first row: [[array(['sky'], dtype='<U3')]\n",
      " [array(['asphalt'], dtype='<U7')]\n",
      " [array(['tilePavement'], dtype='<U12')]\n",
      " [array(['cinderblock'], dtype='<U11')]\n",
      " [array(['brick'], dtype='<U5')]\n",
      " [array(['wall'], dtype='<U4')]\n",
      " [array(['marble'], dtype='<U6')]\n",
      " [array(['stone'], dtype='<U5')]\n",
      " [array(['soil'], dtype='<U4')]\n",
      " [array(['al'], dtype='<U2')]\n",
      " [array(['weatheredMetal'], dtype='<U14')]\n",
      " [array(['brass'], dtype='<U5')]\n",
      " [array(['al2o3'], dtype='<U5')]\n",
      " [array(['oxidizedSteel'], dtype='<U13')]\n",
      " [array(['iron'], dtype='<U4')]\n",
      " [array(['carpaint'], dtype='<U8')]\n",
      " [array(['plasticPaint'], dtype='<U12')]\n",
      " [array(['yellowSpray'], dtype='<U11')]\n",
      " [array(['carwindow'], dtype='<U9')]\n",
      " [array(['crystalGlass'], dtype='<U12')]\n",
      " [array(['tire'], dtype='<U4')]\n",
      " [array(['cloths'], dtype='<U6')]\n",
      " [array(['card'], dtype='<U4')]\n",
      " [array(['tree'], dtype='<U4')]\n",
      " [array(['grass'], dtype='<U5')]\n",
      " [array(['flower'], dtype='<U6')]\n",
      " [array(['water'], dtype='<U5')]\n",
      " [array(['human'], dtype='<U5')]\n",
      " [array(['bark'], dtype='<U4')]\n",
      " [array(['concrete'], dtype='<U8')]]\n"
     ]
    }
   ],
   "source": [
    "matLibName = data_name['matName']\n",
    "print(\"Shape:\", matLibName.shape)\n",
    "# print(\"Dtype:\", matLibName.dtype)\n",
    "# print(\"Min:\", matLibName.min(), \"Max:\", matLibName.max())\n",
    "print(f\"The first row: {matLibName}\")"
   ]
  },
  {
   "cell_type": "code",
   "execution_count": 45,
   "id": "1127bc7f",
   "metadata": {},
   "outputs": [
    {
     "name": "stdout",
     "output_type": "stream",
     "text": [
      "dict_keys(['__header__', '__version__', '__globals__', 'wn'])\n"
     ]
    }
   ],
   "source": [
    "# wavenumber_ExperimentalScenes\n",
    "\n",
    "import scipy.io\n",
    "\n",
    "# Datei laden\n",
    "# matLib_FullDatabase\n",
    "data_wn = scipy.io.loadmat(\"wavenumber_ExperimentalScenes.mat\")\n",
    "\n",
    "# Alle enthaltenen Variablennamen anzeigen\n",
    "\n",
    "print(data_wn.keys())"
   ]
  },
  {
   "cell_type": "code",
   "execution_count": 51,
   "id": "da711fcd",
   "metadata": {},
   "outputs": [
    {
     "name": "stdout",
     "output_type": "stream",
     "text": [
      "Shape: (49, 1)\n",
      "Dtype: uint16\n",
      "Min: 760 Max: 1240\n",
      "The first row: [[ 760]\n",
      " [ 770]\n",
      " [ 780]\n",
      " [ 790]\n",
      " [ 800]\n",
      " [ 810]\n",
      " [ 820]\n",
      " [ 830]\n",
      " [ 840]\n",
      " [ 850]\n",
      " [ 860]\n",
      " [ 870]\n",
      " [ 880]\n",
      " [ 890]\n",
      " [ 900]\n",
      " [ 910]\n",
      " [ 920]\n",
      " [ 930]\n",
      " [ 940]\n",
      " [ 950]\n",
      " [ 960]\n",
      " [ 970]\n",
      " [ 980]\n",
      " [ 990]\n",
      " [1000]\n",
      " [1010]\n",
      " [1020]\n",
      " [1030]\n",
      " [1040]\n",
      " [1050]\n",
      " [1060]\n",
      " [1070]\n",
      " [1080]\n",
      " [1090]\n",
      " [1100]\n",
      " [1110]\n",
      " [1120]\n",
      " [1130]\n",
      " [1140]\n",
      " [1150]\n",
      " [1160]\n",
      " [1170]\n",
      " [1180]\n",
      " [1190]\n",
      " [1200]\n",
      " [1210]\n",
      " [1220]\n",
      " [1230]\n",
      " [1240]]\n"
     ]
    }
   ],
   "source": [
    "matLibWn = data_wn['wn']\n",
    "print(\"Shape:\", matLibWn.shape)\n",
    "print(\"Dtype:\", matLibWn.dtype)\n",
    "print(\"Min:\", matLibWn.min(), \"Max:\", matLibWn.max())\n",
    "print(f\"The first row: {matLibWn}\")"
   ]
  },
  {
   "cell_type": "code",
   "execution_count": 8,
   "id": "a59fef14",
   "metadata": {},
   "outputs": [
    {
     "name": "stdout",
     "output_type": "stream",
     "text": [
      "Shape: (252, 6)\n",
      "The first row: [0.93305548 0.91536599 0.97038946 0.96123958 0.89400235 0.88094997]\n"
     ]
    }
   ],
   "source": [
    "print(f\"Shape: {matLib.shape}\")\n",
    "print(f\"The first row: {matLib[0]}\")"
   ]
  },
  {
   "cell_type": "code",
   "execution_count": 5,
   "id": "2fd8f2db",
   "metadata": {},
   "outputs": [],
   "source": [
    "# Alles aufschreiben\n",
    "# Kamera und die schritte die unternehmen werden müssen für jeden Messung.\n",
    "\n",
    "# Kamera wo wir alles ausleihunen könne.\n",
    "\n",
    "\n",
    "https://www.cia.gov/readingroom/docs/cia-rdp96-00788r001700210016-5.pdf\n",
    "    \n",
    "    \n",
    "https://www.chnspec.net/de/Deutsch/FS-IQ-Portable-hyperspectral-camera.html"
   ]
  },
  {
   "cell_type": "code",
   "execution_count": null,
   "id": "2f7063d6",
   "metadata": {},
   "outputs": [],
   "source": []
  }
 ],
 "metadata": {
  "kernelspec": {
   "display_name": "Python 3 (ipykernel)",
   "language": "python",
   "name": "python3"
  },
  "language_info": {
   "codemirror_mode": {
    "name": "ipython",
    "version": 3
   },
   "file_extension": ".py",
   "mimetype": "text/x-python",
   "name": "python",
   "nbconvert_exporter": "python",
   "pygments_lexer": "ipython3",
   "version": "3.10.18"
  }
 },
 "nbformat": 4,
 "nbformat_minor": 5
}
