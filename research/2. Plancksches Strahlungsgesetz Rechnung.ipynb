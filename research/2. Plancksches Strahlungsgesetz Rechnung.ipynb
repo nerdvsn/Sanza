{
 "cells": [
  {
   "cell_type": "markdown",
   "id": "4705c42a",
   "metadata": {},
   "source": [
    "## Kurzbeschreibung der Schritte im Code\n",
    "\n",
    "---\n",
    "\n",
    "### 1. Planck-Funktion für die Umgebungstemperatur\n",
    "\n",
    "Berechnung der reflektierten Strahlung \\( R(\\lambda) \\) anhand der Planckschen Funktion bei Umgebungstemperatur \\( T_{\\text{Umgebung}} \\):\n",
    "\n",
    "$$\n",
    "R(\\lambda) = B(\\lambda, T_{\\text{Umgebung}}) = \\frac{2 h c^2}{\\lambda^5} \\cdot \\frac{1}{\\exp\\left( \\frac{h c}{\\lambda k T_{\\text{Umgebung}}} \\right) - 1}\n",
    "$$\n",
    "\n",
    "---\n",
    "\n",
    "### 2. Umstellung der Strahlungstransportgleichung\n",
    "\n",
    "Ziel: Berechnung der reinen Eigenstrahlung \\( B_{\\text{obj}} \\) aus der gemessenen Strahlung \\( S(\\lambda) \\):\n",
    "\n",
    "$$\n",
    "B_{\\text{obj}} = \\frac{S(\\lambda) - (1 - \\varepsilon) \\cdot R(\\lambda)}{\\varepsilon}\n",
    "$$\n",
    "\n",
    "---\n",
    "\n",
    "### 3. Inverse Planck-Funktion\n",
    "\n",
    "Ziel: Bestimmung der Temperatur \\( T \\) aus der bekannten Eigenstrahlung \\( B_{\\text{obj}} \\):\n",
    "\n",
    "\\[\n",
    "\\begin{aligned}\n",
    "\\exp\\left( \\frac{h c}{\\lambda k T} \\right) &= \\frac{2 h c^2}{\\lambda^5 B_{\\text{obj}}} + 1 \\\\\n",
    "\\Rightarrow \\quad T &= \\frac{h c}{\\lambda k} \\cdot \\ln\\left( \\frac{2 h c^2}{\\lambda^5 B_{\\text{obj}}} + 1 \\right)\n",
    "\\end{aligned}\n",
    "\\]\n",
    "\n",
    "---\n",
    "\n",
    "### 4. Ausgabe\n",
    "\n",
    "- Temperatur \\( T \\) wird berechnet in **Kelvin (K)**  \n",
    "- Umrechnung in **Grad Celsius (°C)**:\n",
    "\n",
    "$$\n",
    "T_{\\text{[°C]}} = T_{\\text{[K]}} - 273.15\n",
    "$$\n"
   ]
  },
  {
   "cell_type": "code",
   "execution_count": 1,
   "id": "a9c45f30",
   "metadata": {},
   "outputs": [
    {
     "name": "stdout",
     "output_type": "stream",
     "text": [
      "Oberflächentemperatur: T = 361.3 K\n",
      "Oberflächentemperatur: T = 88.2 °C\n"
     ]
    }
   ],
   "source": [
    "import math\n",
    "\n",
    "# Gegebene Größen\n",
    "_lambda = 10e-6       # Wellenlänge in m (10 µm)\n",
    "S_lambda = 2.2e7      # gemessene Strahlstärke in W·(sr·m·m)^(-1)\n",
    "epsilon = 0.95        # Emissionsgrad\n",
    "T_ambient = 300       # Umgebungstemperatur in K\n",
    "\n",
    "# Physikalische Konstanten\n",
    "h = 6.62607015e-34    # Plancksches Wirkungsquantum in J·s\n",
    "c = 299792458         # Lichtgeschwindigkeit in m/s\n",
    "k = 1.380649e-23      # Boltzmann-Konstante in J/K\n",
    "\n",
    "# 1. Berechne R(λ) = B(λ, T_ambient) nach Planck\n",
    "#    B(λ,T) = (2*h*c**2) / (λ**5 * (exp(h*c/(λ*k*T)) - 1))\n",
    "exponent_ambient = h * c / (_lambda * k * T_ambient)\n",
    "B_ambient = (2 * h * c**2) / (_lambda**5 * (math.exp(exponent_ambient) - 1))\n",
    "R_lambda = B_ambient\n",
    "\n",
    "# 2. Leite B_obj = B(λ, T_obj) aus der Strahlungstransportgleichung ab:\n",
    "#    S = ε·B_obj + (1−ε)·R  ⇒  B_obj = (S − (1−ε)·R) / ε\n",
    "B_obj = (S_lambda - (1 - epsilon) * R_lambda) / epsilon\n",
    "\n",
    "# 3. Invertiere Planck-Funktion, um T_obj zu berechnen:\n",
    "#    B_obj = (2*h*c**2) / (λ**5 * (exp(h*c/(λ*k*T_obj)) - 1))\n",
    "#    ⇒ exp_term = (2*h*c**2)/(λ**5 * B_obj) + 1\n",
    "#    ⇒ h*c/(λ*k*T_obj) = ln(exp_term)\n",
    "#    ⇒ T_obj = h*c/(λ*k * ln(exp_term))\n",
    "exp_term = (2 * h * c**2) / (_lambda**5 * B_obj) + 1\n",
    "T_obj = (h * c) / (_lambda * k * math.log(exp_term))\n",
    "\n",
    "# Ausgabe\n",
    "T_obj_C = T_obj - 273.15  # Umrechnung in °C\n",
    "\n",
    "print(f\"Oberflächentemperatur: T = {T_obj:.1f} K\")\n",
    "print(f\"Oberflächentemperatur: T = {T_obj_C:.1f} °C\")\n"
   ]
  },
  {
   "cell_type": "code",
   "execution_count": null,
   "id": "0206f6e4",
   "metadata": {},
   "outputs": [],
   "source": []
  }
 ],
 "metadata": {
  "kernelspec": {
   "display_name": "Python 3 (ipykernel)",
   "language": "python",
   "name": "python3"
  },
  "language_info": {
   "codemirror_mode": {
    "name": "ipython",
    "version": 3
   },
   "file_extension": ".py",
   "mimetype": "text/x-python",
   "name": "python",
   "nbconvert_exporter": "python",
   "pygments_lexer": "ipython3",
   "version": "3.10.18"
  }
 },
 "nbformat": 4,
 "nbformat_minor": 5
}
