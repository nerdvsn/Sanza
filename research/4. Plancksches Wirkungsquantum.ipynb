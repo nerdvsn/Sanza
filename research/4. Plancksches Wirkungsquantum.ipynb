{
 "cells": [
  {
   "cell_type": "markdown",
   "id": "5c05b18e",
   "metadata": {},
   "source": [
    "## Erläuterung der Schritte\n",
    "\n",
    "---\n",
    "\n",
    "### 1. Frequenz \\( f \\)\n",
    "\n",
    "Die Frequenz einer elektromagnetischen Welle ergibt sich aus der Lichtgeschwindigkeit \\( c \\) und der Wellenlänge \\( \\lambda \\):\n",
    "\n",
    "$$\n",
    "f = \\frac{c}{\\lambda}\n",
    "$$\n",
    "\n",
    "---\n",
    "\n",
    "### 2. Photonenergie \\( E \\)\n",
    "\n",
    "Die Energie eines einzelnen Photons ergibt sich über das Plancksche Wirkungsquantum \\( h \\) und die Frequenz \\( f \\):\n",
    "\n",
    "$$\n",
    "E = h \\cdot f\n",
    "$$\n"
   ]
  },
  {
   "cell_type": "code",
   "execution_count": 3,
   "id": "88bb36bc",
   "metadata": {},
   "outputs": [
    {
     "name": "stdout",
     "output_type": "stream",
     "text": [
      "Frequenz f = 3.000e+13 Hz\n",
      "Energie E  = 1.988e-20 J\n"
     ]
    }
   ],
   "source": [
    "import math\n",
    "\n",
    "# Gegebene Größen\n",
    "lambda_m = 10e-6        # Wellenlänge in m (10 μm = 10·10⁻⁶ m)\n",
    "c = 3.0e8               # Lichtgeschwindigkeit in m/s\n",
    "h = 6.626e-34           # Plancksches Wirkungsquantum in J·s\n",
    "\n",
    "# 1. Frequenz berechnen: f = c / λ\n",
    "f = c / lambda_m\n",
    "\n",
    "# 2. Photonenergie: E = h · f\n",
    "E = h * f\n",
    "\n",
    "# Ausgabe\n",
    "print(f\"Frequenz f = {f:.3e} Hz\")\n",
    "print(f\"Energie E  = {E:.3e} J\")\n"
   ]
  },
  {
   "cell_type": "code",
   "execution_count": null,
   "id": "b212b810",
   "metadata": {},
   "outputs": [],
   "source": []
  }
 ],
 "metadata": {
  "kernelspec": {
   "display_name": "Python 3 (ipykernel)",
   "language": "python",
   "name": "python3"
  },
  "language_info": {
   "codemirror_mode": {
    "name": "ipython",
    "version": 3
   },
   "file_extension": ".py",
   "mimetype": "text/x-python",
   "name": "python",
   "nbconvert_exporter": "python",
   "pygments_lexer": "ipython3",
   "version": "3.10.18"
  }
 },
 "nbformat": 4,
 "nbformat_minor": 5
}
